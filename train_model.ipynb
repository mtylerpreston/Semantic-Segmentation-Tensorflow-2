{
  "nbformat": 4,
  "nbformat_minor": 0,
  "metadata": {
    "colab": {
      "name": "train_model.ipynb",
      "provenance": [],
      "collapsed_sections": []
    },
    "kernelspec": {
      "name": "python3",
      "display_name": "Python 3"
    },
    "accelerator": "GPU"
  },
  "cells": [
    {
      "cell_type": "code",
      "metadata": {
        "id": "vyWgcDQKqwj4",
        "colab_type": "code",
        "colab": {
          "base_uri": "https://localhost:8080/",
          "height": 34
        },
        "outputId": "c70a0264-8745-47cf-8606-861b4742a4b5"
      },
      "source": [
        "ls"
      ],
      "execution_count": 1,
      "outputs": [
        {
          "output_type": "stream",
          "text": [
            "\u001b[0m\u001b[01;34mdrive\u001b[0m/  \u001b[01;34msample_data\u001b[0m/\n"
          ],
          "name": "stdout"
        }
      ]
    },
    {
      "cell_type": "code",
      "metadata": {
        "id": "AaOS7k3VthiO",
        "colab_type": "code",
        "colab": {
          "base_uri": "https://localhost:8080/",
          "height": 34
        },
        "outputId": "e50b126f-f209-4033-fcd2-0c99c607fe82"
      },
      "source": [
        "cd drive/"
      ],
      "execution_count": 2,
      "outputs": [
        {
          "output_type": "stream",
          "text": [
            "/content/drive\n"
          ],
          "name": "stdout"
        }
      ]
    },
    {
      "cell_type": "code",
      "metadata": {
        "id": "MqOhSRMqtka4",
        "colab_type": "code",
        "colab": {
          "base_uri": "https://localhost:8080/",
          "height": 34
        },
        "outputId": "973ff890-d3ca-45d7-e4a8-706dc0d52a7c"
      },
      "source": [
        "cd My Drive/segmenter"
      ],
      "execution_count": 3,
      "outputs": [
        {
          "output_type": "stream",
          "text": [
            "/content/drive/My Drive/segmenter\n"
          ],
          "name": "stdout"
        }
      ]
    },
    {
      "cell_type": "code",
      "metadata": {
        "id": "5sIpsBzot7OI",
        "colab_type": "code",
        "colab": {}
      },
      "source": [
        "import train"
      ],
      "execution_count": 4,
      "outputs": []
    },
    {
      "cell_type": "code",
      "metadata": {
        "id": "O99JBZ5zu0Tp",
        "colab_type": "code",
        "colab": {
          "base_uri": "https://localhost:8080/",
          "height": 1000
        },
        "outputId": "b29c1206-5b4f-4b36-8610-f9ce7fe9d84c"
      },
      "source": [
        "train.train()"
      ],
      "execution_count": null,
      "outputs": [
        {
          "output_type": "stream",
          "text": [
            "Reading files...\n",
            "Structuring test and train files...\n",
            "Loaded 799 training samples\n",
            "Loaded 10 testing samples\n",
            "There are some classes which are not contained in the training samples\n"
          ],
          "name": "stdout"
        },
        {
          "output_type": "stream",
          "text": [
            "/content/drive/My Drive/segmenter/utils/Loader.py:290: RuntimeWarning: divide by zero encountered in true_divide\n",
            "  results = np.median(self.freq) / self.freq\n"
          ],
          "name": "stderr"
        },
        {
          "output_type": "stream",
          "text": [
            "[0.25311102 0.63415074 0.69051643 0.7647171  0.89116105 1.\n",
            " 1.24780778 1.43099731 2.48937612 0.         0.        ]\n",
            "Dataset contains 11 classes\n",
            "Dataset loaded...\n",
            "Downloading data from https://storage.googleapis.com/tensorflow/keras-applications/resnet/resnet50v2_weights_tf_dim_ordering_tf_kernels_notop.h5\n",
            "94674944/94668760 [==============================] - 1s 0us/step\n",
            "Model not loaded: Unsuccessful TensorSliceReader constructor: Failed to get matching files on weights/endoscopy/model: Not found: weights/endoscopy; No such file or directory\n",
            "Total parameters of the net: 23556608 == 23.556608M\n",
            "Training...\n",
            "Please enter in terminal: tensorboard --logdir /tmp/summaries\n",
            "epoch: 1. Learning rate: 1e-04\n",
            "Test accuracy: 0.9766421\n",
            "Test miou: 0.10037693\n",
            "Current Best model miou: 0.10037693\n",
            "\n",
            "Epoch time seconds: 117.09622168540955\n",
            "epoch: 2. Learning rate: 9.909046e-05\n",
            "Test accuracy: 0.99357307\n",
            "Test miou: 0.10377046\n",
            "Current Best model miou: 0.10377046\n",
            "\n",
            "Epoch time seconds: 110.51249694824219\n",
            "epoch: 3. Learning rate: 9.817999e-05\n",
            "Test accuracy: 0.995567\n",
            "Test miou: 0.1111167\n",
            "Current Best model miou: 0.1111167\n",
            "\n",
            "Epoch time seconds: 112.58521628379822\n",
            "epoch: 4. Learning rate: 9.7268574e-05\n",
            "Test accuracy: 0.99547225\n",
            "Test miou: 0.1115208\n",
            "Current Best model miou: 0.1115208\n",
            "\n",
            "Epoch time seconds: 112.3490571975708\n",
            "epoch: 5. Learning rate: 9.635621e-05\n",
            "Test accuracy: 0.9955138\n",
            "Test miou: 0.11091262\n",
            "Current Best model miou: 0.1115208\n",
            "\n",
            "Epoch time seconds: 110.128671169281\n",
            "epoch: 6. Learning rate: 9.544289e-05\n",
            "Test accuracy: 0.9954147\n",
            "Test miou: 0.12492047\n",
            "Current Best model miou: 0.12492047\n",
            "\n",
            "Epoch time seconds: 111.13241291046143\n",
            "epoch: 7. Learning rate: 9.45286e-05\n",
            "Test accuracy: 0.99548936\n",
            "Test miou: 0.124840975\n",
            "Current Best model miou: 0.12492047\n",
            "\n",
            "Epoch time seconds: 109.86675119400024\n",
            "epoch: 8. Learning rate: 9.361332e-05\n"
          ],
          "name": "stdout"
        }
      ]
    },
    {
      "cell_type": "code",
      "metadata": {
        "id": "uvrU_z-szVKm",
        "colab_type": "code",
        "colab": {}
      },
      "source": [
        ""
      ],
      "execution_count": null,
      "outputs": []
    }
  ]
}